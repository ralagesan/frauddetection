{
 "cells": [
  {
   "cell_type": "code",
   "execution_count": 17,
   "metadata": {},
   "outputs": [],
   "source": [
    "import warnings\n",
    "warnings.filterwarnings('ignore')"
   ]
  },
  {
   "cell_type": "code",
   "execution_count": 18,
   "metadata": {},
   "outputs": [],
   "source": [
    "import pandas as pd\n",
    "import numpy as np\n",
    "from sklearn.preprocessing import StandardScaler,MinMaxScaler"
   ]
  },
  {
   "cell_type": "code",
   "execution_count": 19,
   "metadata": {},
   "outputs": [],
   "source": [
    "# Load Train Dataset\n",
    "Train_fraud_provider=pd.read_csv(\"./data/healthcare_fraud_detection/Train-1542865627584.csv\")\n",
    "Train_Bene=pd.read_csv(\"./data/healthcare_fraud_detection/Train_Beneficiarydata-1542865627584.csv\")\n",
    "Train_Inpat=pd.read_csv(\"./data/healthcare_fraud_detection/Train_Inpatientdata-1542865627584.csv\")\n",
    "Train_Outpat=pd.read_csv(\"./data/healthcare_fraud_detection/Train_Outpatientdata-1542865627584.csv\")"
   ]
  },
  {
   "cell_type": "code",
   "execution_count": 20,
   "metadata": {},
   "outputs": [],
   "source": [
    "# Load Test Dataset\n",
    "Test_fraud_provider=pd.read_csv(\"./data/healthcare_fraud_detection/Test-1542969243754.csv\")\n",
    "Test_Bene=pd.read_csv(\"./data/healthcare_fraud_detection/Test_Beneficiarydata-1542969243754.csv\")\n",
    "Test_Inpat=pd.read_csv(\"./data/healthcare_fraud_detection/Test_Inpatientdata-1542969243754.csv\")\n",
    "Test_Outpat=pd.read_csv(\"./data/healthcare_fraud_detection/Test_Outpatientdata-1542969243754.csv\")"
   ]
  },
  {
   "cell_type": "code",
   "execution_count": 21,
   "metadata": {},
   "outputs": [
    {
     "data": {
      "text/plain": [
       "Index(['BeneID', 'ClaimID', 'ClaimStartDt', 'ClaimEndDt', 'Provider',\n",
       "       'InscClaimAmtReimbursed', 'AttendingPhysician', 'OperatingPhysician',\n",
       "       'OtherPhysician', 'AdmissionDt', 'ClmAdmitDiagnosisCode',\n",
       "       'DeductibleAmtPaid', 'DischargeDt', 'DiagnosisGroupCode',\n",
       "       'ClmDiagnosisCode_1', 'ClmDiagnosisCode_2', 'ClmDiagnosisCode_3',\n",
       "       'ClmDiagnosisCode_4', 'ClmDiagnosisCode_5', 'ClmDiagnosisCode_6',\n",
       "       'ClmDiagnosisCode_7', 'ClmDiagnosisCode_8', 'ClmDiagnosisCode_9',\n",
       "       'ClmDiagnosisCode_10', 'ClmProcedureCode_1', 'ClmProcedureCode_2',\n",
       "       'ClmProcedureCode_3', 'ClmProcedureCode_4', 'ClmProcedureCode_5',\n",
       "       'ClmProcedureCode_6'],\n",
       "      dtype='object')"
      ]
     },
     "execution_count": 21,
     "metadata": {},
     "output_type": "execute_result"
    }
   ],
   "source": [
    "Train_Inpat.columns"
   ]
  },
  {
   "cell_type": "code",
   "execution_count": 22,
   "metadata": {},
   "outputs": [
    {
     "data": {
      "text/plain": [
       "Index(['BeneID', 'ClaimID', 'ClaimStartDt', 'ClaimEndDt', 'Provider',\n",
       "       'InscClaimAmtReimbursed', 'AttendingPhysician', 'OperatingPhysician',\n",
       "       'OtherPhysician', 'ClmDiagnosisCode_1', 'ClmDiagnosisCode_2',\n",
       "       'ClmDiagnosisCode_3', 'ClmDiagnosisCode_4', 'ClmDiagnosisCode_5',\n",
       "       'ClmDiagnosisCode_6', 'ClmDiagnosisCode_7', 'ClmDiagnosisCode_8',\n",
       "       'ClmDiagnosisCode_9', 'ClmDiagnosisCode_10', 'ClmProcedureCode_1',\n",
       "       'ClmProcedureCode_2', 'ClmProcedureCode_3', 'ClmProcedureCode_4',\n",
       "       'ClmProcedureCode_5', 'ClmProcedureCode_6', 'DeductibleAmtPaid',\n",
       "       'ClmAdmitDiagnosisCode'],\n",
       "      dtype='object')"
      ]
     },
     "execution_count": 22,
     "metadata": {},
     "output_type": "execute_result"
    }
   ],
   "source": [
    "Train_Outpat.columns"
   ]
  },
  {
   "cell_type": "code",
   "execution_count": 23,
   "metadata": {},
   "outputs": [],
   "source": [
    "#Train_Inpat[ ~Train_Inpat.BeneID.isin(Train_Outpat.BeneID.unique())]\n",
    "#Train_allPatients = Train_Inpat.append(Train_Outpat, sort=False)"
   ]
  },
  {
   "cell_type": "code",
   "execution_count": 24,
   "metadata": {},
   "outputs": [],
   "source": [
    "##Replacing 2 with 0 for chronic conditions ,that means chroniv condition No is 0 and yes is 1\n",
    "\n",
    "Train_Bene = Train_Bene.replace({'ChronicCond_Alzheimer': 2, 'ChronicCond_Heartfailure': 2, 'ChronicCond_KidneyDisease': 2,\n",
    "                           'ChronicCond_Cancer': 2, 'ChronicCond_ObstrPulmonary': 2, 'ChronicCond_Depression': 2, \n",
    "                           'ChronicCond_Diabetes': 2, 'ChronicCond_IschemicHeart': 2, 'ChronicCond_Osteoporasis': 2, \n",
    "                           'ChronicCond_rheumatoidarthritis': 2, 'ChronicCond_stroke': 2 }, 0)\n",
    "\n",
    "Train_Bene = Train_Bene.replace({'RenalDiseaseIndicator': 'Y'}, 1)\n",
    "\n",
    "Test_Bene = Test_Bene.replace({'ChronicCond_Alzheimer': 2, 'ChronicCond_Heartfailure': 2, 'ChronicCond_KidneyDisease': 2,\n",
    "                           'ChronicCond_Cancer': 2, 'ChronicCond_ObstrPulmonary': 2, 'ChronicCond_Depression': 2, \n",
    "                           'ChronicCond_Diabetes': 2, 'ChronicCond_IschemicHeart': 2, 'ChronicCond_Osteoporasis': 2, \n",
    "                           'ChronicCond_rheumatoidarthritis': 2, 'ChronicCond_stroke': 2 }, 0)\n",
    "\n",
    "Test_Bene = Test_Bene.replace({'RenalDiseaseIndicator': 'Y'}, 1)"
   ]
  },
  {
   "cell_type": "code",
   "execution_count": 25,
   "metadata": {},
   "outputs": [],
   "source": [
    "## Lets Create Age column to the dataset\n",
    "Train_Bene['DOB'] = pd.to_datetime(Train_Bene['DOB'] , format = '%Y-%m-%d')\n",
    "Train_Bene['DOD'] = pd.to_datetime(Train_Bene['DOD'],format = '%Y-%m-%d',errors='ignore')\n",
    "Train_Bene['Age'] = round(((Train_Bene['DOD'] - Train_Bene['DOB']).dt.days)/365)\n",
    "Train_Bene.Age.fillna(round(((pd.to_datetime('2009-12-01' , format = '%Y-%m-%d') - Train_Bene['DOB']).dt.days)/365),\n",
    "                                inplace=True)\n",
    "\n",
    "Test_Bene['DOB'] = pd.to_datetime(Test_Bene['DOB'] , format = '%Y-%m-%d')\n",
    "Test_Bene['DOD'] = pd.to_datetime(Test_Bene['DOD'],format = '%Y-%m-%d',errors='ignore')\n",
    "Test_Bene['Age'] = round(((Test_Bene['DOD'] - Test_Bene['DOB']).dt.days)/365)\n",
    "Test_Bene.Age.fillna(round(((pd.to_datetime('2009-12-01' , format = '%Y-%m-%d') - Test_Bene['DOB']).dt.days)/365),\n",
    "                                 inplace=True)"
   ]
  },
  {
   "cell_type": "code",
   "execution_count": 26,
   "metadata": {},
   "outputs": [],
   "source": [
    "#Lets create a new variable 'WhetherDead' with flag 1 means Dead and 0 means not Dead\n",
    "Train_Bene.loc[Train_Bene.DOD.isna(),'WhetherDead']=0\n",
    "Train_Bene.loc[Train_Bene.DOD.notna(),'WhetherDead']=1\n",
    "Test_Bene.loc[Test_Bene.DOD.isna(),'WhetherDead']=0\n",
    "Test_Bene.loc[Test_Bene.DOD.notna(),'WhetherDead']=1"
   ]
  },
  {
   "cell_type": "code",
   "execution_count": 27,
   "metadata": {},
   "outputs": [
    {
     "data": {
      "text/plain": [
       "Index(['BeneID', 'ClaimID', 'ClaimStartDt', 'ClaimEndDt', 'Provider',\n",
       "       'InscClaimAmtReimbursed', 'AttendingPhysician', 'OperatingPhysician',\n",
       "       'OtherPhysician', 'AdmissionDt', 'ClmAdmitDiagnosisCode',\n",
       "       'DeductibleAmtPaid', 'DischargeDt', 'DiagnosisGroupCode',\n",
       "       'ClmDiagnosisCode_1', 'ClmDiagnosisCode_2', 'ClmDiagnosisCode_3',\n",
       "       'ClmDiagnosisCode_4', 'ClmDiagnosisCode_5', 'ClmDiagnosisCode_6',\n",
       "       'ClmDiagnosisCode_7', 'ClmDiagnosisCode_8', 'ClmDiagnosisCode_9',\n",
       "       'ClmDiagnosisCode_10', 'ClmProcedureCode_1', 'ClmProcedureCode_2',\n",
       "       'ClmProcedureCode_3', 'ClmProcedureCode_4', 'ClmProcedureCode_5',\n",
       "       'ClmProcedureCode_6'],\n",
       "      dtype='object')"
      ]
     },
     "execution_count": 27,
     "metadata": {},
     "output_type": "execute_result"
    }
   ],
   "source": [
    "Train_Inpat.columns"
   ]
  },
  {
   "cell_type": "code",
   "execution_count": 28,
   "metadata": {},
   "outputs": [],
   "source": [
    "## As patient can be admitted for only for 1 day,we will add 1 to the difference of Discharge Date and Admission Date \n",
    "Train_Inpat['AdmissionDt'] = pd.to_datetime(Train_Inpat['AdmissionDt'] , format = '%Y-%m-%d')\n",
    "Train_Inpat['DischargeDt'] = pd.to_datetime(Train_Inpat['DischargeDt'],format = '%Y-%m-%d')\n",
    "Train_Inpat['AdmitForDays'] = ((Train_Inpat['DischargeDt'] - Train_Inpat['AdmissionDt']).dt.days)+1\n",
    "Train_Inpat['Inpatient'] = 1\n",
    "Train_Inpat.drop(['AdmissionDt', 'DischargeDt'],axis=1, inplace=True)\n",
    "\n",
    "Test_Inpat['AdmissionDt'] = pd.to_datetime(Test_Inpat['AdmissionDt'] , format = '%Y-%m-%d')\n",
    "Test_Inpat['DischargeDt'] = pd.to_datetime(Test_Inpat['DischargeDt'],format = '%Y-%m-%d')\n",
    "Test_Inpat['AdmitForDays'] = ((Test_Inpat['DischargeDt'] - Test_Inpat['AdmissionDt']).dt.days)+1\n",
    "Test_Inpat['Inpatient'] = 1\n",
    "Test_Inpat.drop(['AdmissionDt', 'DischargeDt'],axis=1, inplace=True)"
   ]
  },
  {
   "cell_type": "code",
   "execution_count": 29,
   "metadata": {},
   "outputs": [],
   "source": [
    "Train_allPatients = Train_Inpat.append(Train_Outpat, sort=False)\n",
    "Test_allPatients = Test_Inpat.append(Test_Outpat, sort=False)"
   ]
  },
  {
   "cell_type": "code",
   "execution_count": 31,
   "metadata": {},
   "outputs": [],
   "source": [
    "## Lets merge All patient data with beneficiary details data based on 'BeneID' as joining key for inner join\n",
    "Train_allPatientsDetails=pd.merge(Train_allPatients,Train_Bene,left_on='BeneID',right_on='BeneID',how='inner')\n",
    "Test_allPatientsDetails=pd.merge(Test_allPatients,Test_Bene,left_on='BeneID',right_on='BeneID',how='inner')"
   ]
  },
  {
   "cell_type": "code",
   "execution_count": 32,
   "metadata": {},
   "outputs": [],
   "source": [
    "# Lets merge patient data with fradulent providers details data with \"Provider\" as joining key for inner join\n",
    "Train_ProviderWithPatientDetails=pd.merge(Train_fraud_provider,Train_allPatientsDetails,on='Provider')\n",
    "\n",
    "Test_ProviderWithPatientDetails=pd.merge(Test_fraud_provider,Test_allPatientsDetails,on='Provider')"
   ]
  },
  {
   "cell_type": "code",
   "execution_count": 33,
   "metadata": {},
   "outputs": [],
   "source": [
    "Normal_Claims = Train_ProviderWithPatientDetails[Train_ProviderWithPatientDetails.PotentialFraud == 'No']\n",
    "Fraud_Claims = Train_ProviderWithPatientDetails[Train_ProviderWithPatientDetails.PotentialFraud == 'Yes']"
   ]
  },
  {
   "cell_type": "code",
   "execution_count": 34,
   "metadata": {},
   "outputs": [
    {
     "data": {
      "text/plain": [
       "(212796, 57)"
      ]
     },
     "execution_count": 34,
     "metadata": {},
     "output_type": "execute_result"
    }
   ],
   "source": [
    "Fraud_Claims.shape"
   ]
  },
  {
   "cell_type": "code",
   "execution_count": 35,
   "metadata": {},
   "outputs": [
    {
     "data": {
      "text/plain": [
       "(345415, 57)"
      ]
     },
     "execution_count": 35,
     "metadata": {},
     "output_type": "execute_result"
    }
   ],
   "source": [
    "Normal_Claims.shape"
   ]
  },
  {
   "cell_type": "code",
   "execution_count": 36,
   "metadata": {},
   "outputs": [
    {
     "data": {
      "text/plain": [
       "No     4904\n",
       "Yes     506\n",
       "Name: PotentialFraud, dtype: int64"
      ]
     },
     "execution_count": 36,
     "metadata": {},
     "output_type": "execute_result"
    }
   ],
   "source": [
    "Train_fraud_provider.PotentialFraud.value_counts()"
   ]
  },
  {
   "cell_type": "code",
   "execution_count": 37,
   "metadata": {},
   "outputs": [],
   "source": [
    "All_Claims = Train_ProviderWithPatientDetails"
   ]
  },
  {
   "cell_type": "code",
   "execution_count": 38,
   "metadata": {},
   "outputs": [],
   "source": [
    "mean_calc_cols = ['InscClaimAmtReimbursed','DeductibleAmtPaid','IPAnnualReimbursementAmt','IPAnnualDeductibleAmt',\n",
    "                  'OPAnnualReimbursementAmt','OPAnnualDeductibleAmt','AdmitForDays']\n",
    "group_cols =['Provider','BeneID','OtherPhysician','OperatingPhysician','AttendingPhysician','ClmAdmitDiagnosisCode',\n",
    "        'DiagnosisGroupCode','ClmDiagnosisCode_1', 'ClmDiagnosisCode_2', 'ClmDiagnosisCode_3',\n",
    "       'ClmDiagnosisCode_4', 'ClmDiagnosisCode_5', 'ClmDiagnosisCode_6',\n",
    "       'ClmDiagnosisCode_7', 'ClmDiagnosisCode_8', 'ClmDiagnosisCode_9',\n",
    "       'ClmDiagnosisCode_10', 'ClmProcedureCode_1', 'ClmProcedureCode_2',\n",
    "       'ClmProcedureCode_3', 'ClmProcedureCode_4', 'ClmProcedureCode_5',\n",
    "       'ClmProcedureCode_6']\n",
    "for grp in group_cols:\n",
    "    for mean_col in mean_calc_cols:\n",
    "        new_col = \"per\"+grp+\"Avg_\"+mean_col\n",
    "        #print(new_col)\n",
    "        All_Claims[new_col]=All_Claims.groupby(grp)[mean_col].transform('mean')\n",
    "       "
   ]
  },
  {
   "cell_type": "code",
   "execution_count": null,
   "metadata": {},
   "outputs": [],
   "source": []
  },
  {
   "cell_type": "code",
   "execution_count": 41,
   "metadata": {},
   "outputs": [],
   "source": [
    "All_Claims[\"PerProviderAvg_Age\"]=Normal_Claims.groupby('Provider')['Age'].transform('mean')\n",
    "All_Claims[\"PerProviderAvg_NoOfMonths_PartACov\"]=Normal_Claims.groupby('Provider')['NoOfMonths_PartACov'].transform('mean')\n",
    "All_Claims[\"PerProviderAvg_NoOfMonths_PartBCov\"]=Normal_Claims.groupby('Provider')['NoOfMonths_PartBCov'].transform('mean')\n"
   ]
  },
  {
   "cell_type": "markdown",
   "metadata": {},
   "source": [
    "**Claims are filed by Provider,so fraud can be organized crime.So we will check ClmCounts filed by Providers and when pairs like Provider +BeneID, Provider+Attending Physician, Provider+ClmAdmitDiagnosisCode, Provider+ClmProcedureCode_1,Provider+ClmDiagnosisCode_1 are together.**\n",
    "\n",
    "\n",
    "**Average Feature based on grouping based on combinations of different variables.**"
   ]
  },
  {
   "cell_type": "code",
   "execution_count": 42,
   "metadata": {},
   "outputs": [],
   "source": [
    "cnt_grp_cols_list= [['Provider'],['Provider','BeneID'],['Provider','AttendingPhysician']\n",
    "        ,['Provider','OtherPhysician'],['Provider','OperatingPhysician'],['Provider','ClmAdmitDiagnosisCode']\n",
    "        ,['Provider','ClmProcedureCode_1'],['Provider','ClmProcedureCode_2'],['Provider','ClmProcedureCode_3']\n",
    "        ,['Provider','ClmProcedureCode_4'],['Provider','ClmProcedureCode_5']\n",
    "        ,['Provider','ClmDiagnosisCode_1'],['Provider','ClmDiagnosisCode_2'],['Provider','ClmDiagnosisCode_3']\n",
    "        ,['Provider','ClmDiagnosisCode_4'],['Provider','ClmDiagnosisCode_5'],['Provider','ClmDiagnosisCode_6']\n",
    "        ,['Provider','ClmDiagnosisCode_7'],['Provider','ClmDiagnosisCode_8'],['Provider','ClmDiagnosisCode_9']\n",
    "        ,['Provider','DiagnosisGroupCode']\n",
    "        ,['Provider','BeneID','AttendingPhysician'],['Provider','BeneID','OtherPhysician']\n",
    "        ,['Provider','BeneID','AttendingPhysician','ClmProcedureCode_1']\n",
    "        ,['Provider','BeneID','AttendingPhysician','ClmDiagnosisCode_1']\n",
    "        ,['Provider','BeneID','OperatingPhysician'],['Provider','BeneID','ClmProcedureCode_1']\n",
    "        ,['Provider','BeneID','ClmDiagnosisCode_1']\n",
    "        ,['Provider','BeneID','ClmDiagnosisCode_1','ClmProcedureCode_1']]\n",
    "\n",
    "\n",
    "for grp_list in cnt_grp_cols_list:\n",
    "    grp_name =\"Claims_by_\"\n",
    "    for grp_item in grp_list:\n",
    "        grp_name = grp_name+grp_item\n",
    "    new_col = grp_name+\"_Cnt\"\n",
    "    #print(new_col)\n",
    "    All_Claims[new_col]=All_Claims.groupby(grp_list)['ClaimID'].transform('count')\n"
   ]
  },
  {
   "cell_type": "code",
   "execution_count": 43,
   "metadata": {},
   "outputs": [
    {
     "name": "stdout",
     "output_type": "stream",
     "text": [
      "All_Claims shape- (558211, 250)\n"
     ]
    }
   ],
   "source": [
    "## Lets Check Shape after creating new features.\n",
    "print('All_Claims shape-',All_Claims.shape)"
   ]
  },
  {
   "cell_type": "code",
   "execution_count": 44,
   "metadata": {},
   "outputs": [],
   "source": [
    "Normal_Claims['ClmDiagnosisCode_1'].value_counts()\n",
    "vc = Normal_Claims.ClmDiagnosisCode_1.value_counts()"
   ]
  },
  {
   "cell_type": "code",
   "execution_count": 45,
   "metadata": {},
   "outputs": [
    {
     "data": {
      "text/plain": [
       "4019     8823\n",
       "4011     7963\n",
       "2724     2262\n",
       "2720     2070\n",
       "2721     1925\n",
       "         ... \n",
       "V568      602\n",
       "V4512     601\n",
       "V4511     594\n",
       "7925      586\n",
       "V5631     575\n",
       "Name: ClmDiagnosisCode_1, Length: 63, dtype: int64"
      ]
     },
     "execution_count": 45,
     "metadata": {},
     "output_type": "execute_result"
    }
   ],
   "source": [
    "vc[vc>500]"
   ]
  },
  {
   "cell_type": "code",
   "execution_count": 46,
   "metadata": {},
   "outputs": [
    {
     "data": {
      "text/plain": [
       "array(['78', '29', '03', '56', '42', '41', '35', '85', '51', '59', 'V4',\n",
       "       'na', '71', 'V1', '27', 'V7', '24', '79', '04', '40', 'V5', '28',\n",
       "       '47', '72', '53', '46', '49', '15', '17', '25', '99', '58', 'V0',\n",
       "       '18', '34', '73', 'V6', '62', 'V8', '11', '61', '36', '68', '43',\n",
       "       '83', '44', 'E8', '02', '55', '32', '33', '91', '23', '57', '38',\n",
       "       '70', '21', '05', '13', '00', '74', '88', '19', '60', '20', '16',\n",
       "       '82', '30', '14', '92', '84', '52', '45', '37', '07', '81', 'V2',\n",
       "       '95', '87', '80', '69', '98', '90', '39', '08', '93', '31', '22',\n",
       "       '97', '26', '48', '64', '66', '75', 'E9', '09', '50', '89', '12',\n",
       "       '96', '06', '10', '77', '54', '86', '94', '65', '67', '76', '63',\n",
       "       '01'], dtype=object)"
      ]
     },
     "execution_count": 46,
     "metadata": {},
     "output_type": "execute_result"
    }
   ],
   "source": [
    "## Lets Check unique values of ICD Diagnosis Codes\n",
    "diagnosiscode_2chars=Normal_Claims['ClmDiagnosisCode_1'].astype(str).str[0:2]\n",
    "diagnosiscode_2chars.unique()"
   ]
  },
  {
   "cell_type": "code",
   "execution_count": 47,
   "metadata": {},
   "outputs": [],
   "source": [
    "x=diagnosiscode_2chars.sort_values(ascending=True)"
   ]
  },
  {
   "cell_type": "code",
   "execution_count": 48,
   "metadata": {},
   "outputs": [
    {
     "data": {
      "text/plain": [
       "array(['00', '01', '02', '03', '04', '05', '06', '07', '08', '09', '10',\n",
       "       '11', '12', '13', '14', '15', '16', '17', '18', '19', '20', '21',\n",
       "       '22', '23', '24', '25', '26', '27', '28', '29', '30', '31', '32',\n",
       "       '33', '34', '35', '36', '37', '38', '39', '40', '41', '42', '43',\n",
       "       '44', '45', '46', '47', '48', '49', '50', '51', '52', '53', '54',\n",
       "       '55', '56', '57', '58', '59', '60', '61', '62', '63', '64', '65',\n",
       "       '66', '67', '68', '69', '70', '71', '72', '73', '74', '75', '76',\n",
       "       '77', '78', '79', '80', '81', '82', '83', '84', '85', '86', '87',\n",
       "       '88', '89', '90', '91', '92', '93', '94', '95', '96', '97', '98',\n",
       "       '99', 'E8', 'E9', 'V0', 'V1', 'V2', 'V4', 'V5', 'V6', 'V7', 'V8',\n",
       "       'na'], dtype=object)"
      ]
     },
     "execution_count": 48,
     "metadata": {},
     "output_type": "execute_result"
    }
   ],
   "source": [
    "x.unique()\n",
    "#x.value_counts()[:10]"
   ]
  },
  {
   "cell_type": "markdown",
   "metadata": {},
   "source": [
    "**Above Data Shows that if we take only first 2 characters of diagnosis code for the purpose of grouping them ,we might end up creating large sparse matrix ,as each 'code' column will generate 120+ dummy columns.This will increase computational time and loose explicability.**\n",
    "\n",
    "**Data Preprocessing**\n",
    "\n",
    "**Impute Numeric columns with 0's.**"
   ]
  },
  {
   "cell_type": "code",
   "execution_count": 49,
   "metadata": {},
   "outputs": [],
   "source": [
    "##### Lets impute numeric columns with 0\n",
    "\n",
    "cols1 = All_Claims.select_dtypes([np.number]).columns\n",
    "cols2 = All_Claims.select_dtypes(exclude = [np.number]).columns\n",
    "\n",
    "All_Claims[cols1] = All_Claims[cols1].fillna(value=0)"
   ]
  },
  {
   "cell_type": "markdown",
   "metadata": {},
   "source": [
    "**Feature Selection**"
   ]
  },
  {
   "cell_type": "code",
   "execution_count": 50,
   "metadata": {},
   "outputs": [],
   "source": [
    "# Lets remove unnecessary columns ,as we grouped based on these columns and derived maximum infromation from them.\n",
    "\n",
    "cols=All_Claims.columns\n",
    "cols[:58]\n",
    "\n",
    "remove_these_columns=['BeneID', 'ClaimID', 'ClaimStartDt','ClaimEndDt','AttendingPhysician',\n",
    "       'OperatingPhysician', 'OtherPhysician', 'ClmDiagnosisCode_1',\n",
    "       'ClmDiagnosisCode_2', 'ClmDiagnosisCode_3', 'ClmDiagnosisCode_4',\n",
    "       'ClmDiagnosisCode_5', 'ClmDiagnosisCode_6', 'ClmDiagnosisCode_7',\n",
    "       'ClmDiagnosisCode_8', 'ClmDiagnosisCode_9', 'ClmDiagnosisCode_10',\n",
    "       'ClmProcedureCode_1', 'ClmProcedureCode_2', 'ClmProcedureCode_3',\n",
    "       'ClmProcedureCode_4', 'ClmProcedureCode_5', 'ClmProcedureCode_6',\n",
    "       'ClmAdmitDiagnosisCode', 'DiagnosisGroupCode','DOB', 'DOD',\n",
    "        'State', 'County']\n",
    "\n",
    "Train_category_removed=All_Claims.drop(axis=1,columns=remove_these_columns)\n"
   ]
  },
  {
   "cell_type": "code",
   "execution_count": 51,
   "metadata": {},
   "outputs": [
    {
     "name": "stdout",
     "output_type": "stream",
     "text": [
      "Train Shape : (558211, 221)\n",
      "Train Missing Values 0\n"
     ]
    }
   ],
   "source": [
    "## Lets Check shape and missing values\n",
    "print('Train Shape :',Train_category_removed.shape)\n",
    "print(\"Train Missing Values\",Train_category_removed.isnull().sum().sum())"
   ]
  },
  {
   "cell_type": "markdown",
   "metadata": {},
   "source": [
    "**Type Conversion**"
   ]
  },
  {
   "cell_type": "code",
   "execution_count": 52,
   "metadata": {},
   "outputs": [],
   "source": [
    "## Lets Convert types of gender and race to categorical.\n",
    "Train_category_removed.Gender=Train_category_removed.Gender.astype('category')\n",
    "Train_category_removed.Race=Train_category_removed.Race.astype('category')"
   ]
  },
  {
   "cell_type": "markdown",
   "metadata": {},
   "source": [
    "**Dummification**"
   ]
  },
  {
   "cell_type": "code",
   "execution_count": 53,
   "metadata": {},
   "outputs": [],
   "source": [
    "# Lets create dummies for categorrical columns.\n",
    "Train_category_removed=pd.get_dummies(Train_category_removed,columns=['Gender','Race'],drop_first=True)"
   ]
  },
  {
   "cell_type": "markdown",
   "metadata": {},
   "source": [
    "**Convert Target values to 1 and 0,wher '1' means Yes and '0' means No**"
   ]
  },
  {
   "cell_type": "code",
   "execution_count": 54,
   "metadata": {},
   "outputs": [
    {
     "data": {
      "text/plain": [
       "0"
      ]
     },
     "execution_count": 54,
     "metadata": {},
     "output_type": "execute_result"
    }
   ],
   "source": [
    "Train_category_removed.PotentialFraud.replace(['Yes','No'],['1','0'],inplace=True)\n",
    "Train_category_removed.head()\n",
    "Train_category_removed.PotentialFraud=Train_category_removed.PotentialFraud.astype('int64')\n",
    "Train_category_removed.PotentialFraud.dtypes\n",
    "Train_category_removed.PotentialFraud.min()"
   ]
  },
  {
   "cell_type": "code",
   "execution_count": 55,
   "metadata": {},
   "outputs": [
    {
     "data": {
      "text/plain": [
       "1"
      ]
     },
     "execution_count": 55,
     "metadata": {},
     "output_type": "execute_result"
    }
   ],
   "source": [
    "Train_category_removed.PotentialFraud.max()"
   ]
  },
  {
   "cell_type": "markdown",
   "metadata": {},
   "source": [
    "**Select only Test related data from merged data**"
   ]
  },
  {
   "cell_type": "markdown",
   "metadata": {},
   "source": [
    "**Data Aggregation to the Providers level**"
   ]
  },
  {
   "cell_type": "code",
   "execution_count": 56,
   "metadata": {},
   "outputs": [],
   "source": [
    "### Lets aggregate claims data to unique providers.\n",
    "Train_category_removed_groupedbyProv_PF=Train_category_removed.groupby(['Provider','PotentialFraud'],as_index=False).agg('sum')"
   ]
  },
  {
   "cell_type": "code",
   "execution_count": 57,
   "metadata": {},
   "outputs": [
    {
     "name": "stdout",
     "output_type": "stream",
     "text": [
      "Providers in Train: (5410, 222)\n"
     ]
    }
   ],
   "source": [
    "print('Providers in Train:' ,Train_category_removed_groupedbyProv_PF.shape)"
   ]
  },
  {
   "cell_type": "code",
   "execution_count": 58,
   "metadata": {},
   "outputs": [
    {
     "data": {
      "text/html": [
       "<div>\n",
       "<style scoped>\n",
       "    .dataframe tbody tr th:only-of-type {\n",
       "        vertical-align: middle;\n",
       "    }\n",
       "\n",
       "    .dataframe tbody tr th {\n",
       "        vertical-align: top;\n",
       "    }\n",
       "\n",
       "    .dataframe thead th {\n",
       "        text-align: right;\n",
       "    }\n",
       "</style>\n",
       "<table border=\"1\" class=\"dataframe\">\n",
       "  <thead>\n",
       "    <tr style=\"text-align: right;\">\n",
       "      <th></th>\n",
       "      <th>Provider</th>\n",
       "      <th>PotentialFraud</th>\n",
       "      <th>InscClaimAmtReimbursed</th>\n",
       "      <th>DeductibleAmtPaid</th>\n",
       "      <th>AdmitForDays</th>\n",
       "      <th>Inpatient</th>\n",
       "      <th>NoOfMonths_PartACov</th>\n",
       "      <th>NoOfMonths_PartBCov</th>\n",
       "      <th>ChronicCond_Alzheimer</th>\n",
       "      <th>ChronicCond_Heartfailure</th>\n",
       "      <th>...</th>\n",
       "      <th>Claims_by_ProviderBeneIDAttendingPhysicianClmProcedureCode_1_Cnt</th>\n",
       "      <th>Claims_by_ProviderBeneIDAttendingPhysicianClmDiagnosisCode_1_Cnt</th>\n",
       "      <th>Claims_by_ProviderBeneIDOperatingPhysician_Cnt</th>\n",
       "      <th>Claims_by_ProviderBeneIDClmProcedureCode_1_Cnt</th>\n",
       "      <th>Claims_by_ProviderBeneIDClmDiagnosisCode_1_Cnt</th>\n",
       "      <th>Claims_by_ProviderBeneIDClmDiagnosisCode_1ClmProcedureCode_1_Cnt</th>\n",
       "      <th>Gender_2</th>\n",
       "      <th>Race_2</th>\n",
       "      <th>Race_3</th>\n",
       "      <th>Race_5</th>\n",
       "    </tr>\n",
       "  </thead>\n",
       "  <tbody>\n",
       "    <tr>\n",
       "      <th>0</th>\n",
       "      <td>PRV51001</td>\n",
       "      <td>0</td>\n",
       "      <td>104640</td>\n",
       "      <td>5340.0</td>\n",
       "      <td>30.0</td>\n",
       "      <td>5.0</td>\n",
       "      <td>300</td>\n",
       "      <td>300</td>\n",
       "      <td>15</td>\n",
       "      <td>19</td>\n",
       "      <td>...</td>\n",
       "      <td>2.0</td>\n",
       "      <td>24.0</td>\n",
       "      <td>5.0</td>\n",
       "      <td>2.0</td>\n",
       "      <td>24.0</td>\n",
       "      <td>2.0</td>\n",
       "      <td>16.0</td>\n",
       "      <td>4.0</td>\n",
       "      <td>0.0</td>\n",
       "      <td>0.0</td>\n",
       "    </tr>\n",
       "    <tr>\n",
       "      <th>1</th>\n",
       "      <td>PRV51003</td>\n",
       "      <td>1</td>\n",
       "      <td>605670</td>\n",
       "      <td>66286.0</td>\n",
       "      <td>382.0</td>\n",
       "      <td>62.0</td>\n",
       "      <td>1560</td>\n",
       "      <td>1567</td>\n",
       "      <td>56</td>\n",
       "      <td>80</td>\n",
       "      <td>...</td>\n",
       "      <td>39.0</td>\n",
       "      <td>132.0</td>\n",
       "      <td>45.0</td>\n",
       "      <td>39.0</td>\n",
       "      <td>132.0</td>\n",
       "      <td>39.0</td>\n",
       "      <td>78.0</td>\n",
       "      <td>24.0</td>\n",
       "      <td>0.0</td>\n",
       "      <td>1.0</td>\n",
       "    </tr>\n",
       "    <tr>\n",
       "      <th>2</th>\n",
       "      <td>PRV51004</td>\n",
       "      <td>0</td>\n",
       "      <td>52170</td>\n",
       "      <td>310.0</td>\n",
       "      <td>0.0</td>\n",
       "      <td>0.0</td>\n",
       "      <td>1768</td>\n",
       "      <td>1782</td>\n",
       "      <td>64</td>\n",
       "      <td>88</td>\n",
       "      <td>...</td>\n",
       "      <td>0.0</td>\n",
       "      <td>143.0</td>\n",
       "      <td>27.0</td>\n",
       "      <td>0.0</td>\n",
       "      <td>143.0</td>\n",
       "      <td>0.0</td>\n",
       "      <td>103.0</td>\n",
       "      <td>24.0</td>\n",
       "      <td>5.0</td>\n",
       "      <td>0.0</td>\n",
       "    </tr>\n",
       "  </tbody>\n",
       "</table>\n",
       "<p>3 rows × 222 columns</p>\n",
       "</div>"
      ],
      "text/plain": [
       "   Provider  PotentialFraud  InscClaimAmtReimbursed  DeductibleAmtPaid  \\\n",
       "0  PRV51001               0                  104640             5340.0   \n",
       "1  PRV51003               1                  605670            66286.0   \n",
       "2  PRV51004               0                   52170              310.0   \n",
       "\n",
       "   AdmitForDays  Inpatient  NoOfMonths_PartACov  NoOfMonths_PartBCov  \\\n",
       "0          30.0        5.0                  300                  300   \n",
       "1         382.0       62.0                 1560                 1567   \n",
       "2           0.0        0.0                 1768                 1782   \n",
       "\n",
       "   ChronicCond_Alzheimer  ChronicCond_Heartfailure  ...  \\\n",
       "0                     15                        19  ...   \n",
       "1                     56                        80  ...   \n",
       "2                     64                        88  ...   \n",
       "\n",
       "   Claims_by_ProviderBeneIDAttendingPhysicianClmProcedureCode_1_Cnt  \\\n",
       "0                                                2.0                  \n",
       "1                                               39.0                  \n",
       "2                                                0.0                  \n",
       "\n",
       "   Claims_by_ProviderBeneIDAttendingPhysicianClmDiagnosisCode_1_Cnt  \\\n",
       "0                                               24.0                  \n",
       "1                                              132.0                  \n",
       "2                                              143.0                  \n",
       "\n",
       "   Claims_by_ProviderBeneIDOperatingPhysician_Cnt  \\\n",
       "0                                             5.0   \n",
       "1                                            45.0   \n",
       "2                                            27.0   \n",
       "\n",
       "   Claims_by_ProviderBeneIDClmProcedureCode_1_Cnt  \\\n",
       "0                                             2.0   \n",
       "1                                            39.0   \n",
       "2                                             0.0   \n",
       "\n",
       "   Claims_by_ProviderBeneIDClmDiagnosisCode_1_Cnt  \\\n",
       "0                                            24.0   \n",
       "1                                           132.0   \n",
       "2                                           143.0   \n",
       "\n",
       "   Claims_by_ProviderBeneIDClmDiagnosisCode_1ClmProcedureCode_1_Cnt  Gender_2  \\\n",
       "0                                                2.0                     16.0   \n",
       "1                                               39.0                     78.0   \n",
       "2                                                0.0                    103.0   \n",
       "\n",
       "   Race_2  Race_3  Race_5  \n",
       "0     4.0     0.0     0.0  \n",
       "1    24.0     0.0     1.0  \n",
       "2    24.0     5.0     0.0  \n",
       "\n",
       "[3 rows x 222 columns]"
      ]
     },
     "execution_count": 58,
     "metadata": {},
     "output_type": "execute_result"
    }
   ],
   "source": [
    "Train_category_removed_groupedbyProv_PF.head(3)"
   ]
  },
  {
   "cell_type": "markdown",
   "metadata": {},
   "source": [
    "**Train Validation split**"
   ]
  },
  {
   "cell_type": "code",
   "execution_count": 59,
   "metadata": {},
   "outputs": [
    {
     "name": "stdout",
     "output_type": "stream",
     "text": [
      "Train shape: (5410, 222)\n"
     ]
    }
   ],
   "source": [
    "print('Train shape:',Train_category_removed_groupedbyProv_PF.shape)"
   ]
  },
  {
   "cell_type": "code",
   "execution_count": 60,
   "metadata": {},
   "outputs": [
    {
     "data": {
      "text/html": [
       "<div>\n",
       "<style scoped>\n",
       "    .dataframe tbody tr th:only-of-type {\n",
       "        vertical-align: middle;\n",
       "    }\n",
       "\n",
       "    .dataframe tbody tr th {\n",
       "        vertical-align: top;\n",
       "    }\n",
       "\n",
       "    .dataframe thead th {\n",
       "        text-align: right;\n",
       "    }\n",
       "</style>\n",
       "<table border=\"1\" class=\"dataframe\">\n",
       "  <thead>\n",
       "    <tr style=\"text-align: right;\">\n",
       "      <th></th>\n",
       "      <th>Provider</th>\n",
       "      <th>PotentialFraud</th>\n",
       "      <th>InscClaimAmtReimbursed</th>\n",
       "      <th>DeductibleAmtPaid</th>\n",
       "      <th>AdmitForDays</th>\n",
       "      <th>Inpatient</th>\n",
       "      <th>NoOfMonths_PartACov</th>\n",
       "      <th>NoOfMonths_PartBCov</th>\n",
       "      <th>ChronicCond_Alzheimer</th>\n",
       "      <th>ChronicCond_Heartfailure</th>\n",
       "      <th>...</th>\n",
       "      <th>Claims_by_ProviderBeneIDAttendingPhysicianClmProcedureCode_1_Cnt</th>\n",
       "      <th>Claims_by_ProviderBeneIDAttendingPhysicianClmDiagnosisCode_1_Cnt</th>\n",
       "      <th>Claims_by_ProviderBeneIDOperatingPhysician_Cnt</th>\n",
       "      <th>Claims_by_ProviderBeneIDClmProcedureCode_1_Cnt</th>\n",
       "      <th>Claims_by_ProviderBeneIDClmDiagnosisCode_1_Cnt</th>\n",
       "      <th>Claims_by_ProviderBeneIDClmDiagnosisCode_1ClmProcedureCode_1_Cnt</th>\n",
       "      <th>Gender_2</th>\n",
       "      <th>Race_2</th>\n",
       "      <th>Race_3</th>\n",
       "      <th>Race_5</th>\n",
       "    </tr>\n",
       "  </thead>\n",
       "  <tbody>\n",
       "    <tr>\n",
       "      <th>0</th>\n",
       "      <td>PRV51001</td>\n",
       "      <td>0</td>\n",
       "      <td>104640</td>\n",
       "      <td>5340.0</td>\n",
       "      <td>30.0</td>\n",
       "      <td>5.0</td>\n",
       "      <td>300</td>\n",
       "      <td>300</td>\n",
       "      <td>15</td>\n",
       "      <td>19</td>\n",
       "      <td>...</td>\n",
       "      <td>2.0</td>\n",
       "      <td>24.0</td>\n",
       "      <td>5.0</td>\n",
       "      <td>2.0</td>\n",
       "      <td>24.0</td>\n",
       "      <td>2.0</td>\n",
       "      <td>16.0</td>\n",
       "      <td>4.0</td>\n",
       "      <td>0.0</td>\n",
       "      <td>0.0</td>\n",
       "    </tr>\n",
       "    <tr>\n",
       "      <th>1</th>\n",
       "      <td>PRV51003</td>\n",
       "      <td>1</td>\n",
       "      <td>605670</td>\n",
       "      <td>66286.0</td>\n",
       "      <td>382.0</td>\n",
       "      <td>62.0</td>\n",
       "      <td>1560</td>\n",
       "      <td>1567</td>\n",
       "      <td>56</td>\n",
       "      <td>80</td>\n",
       "      <td>...</td>\n",
       "      <td>39.0</td>\n",
       "      <td>132.0</td>\n",
       "      <td>45.0</td>\n",
       "      <td>39.0</td>\n",
       "      <td>132.0</td>\n",
       "      <td>39.0</td>\n",
       "      <td>78.0</td>\n",
       "      <td>24.0</td>\n",
       "      <td>0.0</td>\n",
       "      <td>1.0</td>\n",
       "    </tr>\n",
       "    <tr>\n",
       "      <th>2</th>\n",
       "      <td>PRV51004</td>\n",
       "      <td>0</td>\n",
       "      <td>52170</td>\n",
       "      <td>310.0</td>\n",
       "      <td>0.0</td>\n",
       "      <td>0.0</td>\n",
       "      <td>1768</td>\n",
       "      <td>1782</td>\n",
       "      <td>64</td>\n",
       "      <td>88</td>\n",
       "      <td>...</td>\n",
       "      <td>0.0</td>\n",
       "      <td>143.0</td>\n",
       "      <td>27.0</td>\n",
       "      <td>0.0</td>\n",
       "      <td>143.0</td>\n",
       "      <td>0.0</td>\n",
       "      <td>103.0</td>\n",
       "      <td>24.0</td>\n",
       "      <td>5.0</td>\n",
       "      <td>0.0</td>\n",
       "    </tr>\n",
       "  </tbody>\n",
       "</table>\n",
       "<p>3 rows × 222 columns</p>\n",
       "</div>"
      ],
      "text/plain": [
       "   Provider  PotentialFraud  InscClaimAmtReimbursed  DeductibleAmtPaid  \\\n",
       "0  PRV51001               0                  104640             5340.0   \n",
       "1  PRV51003               1                  605670            66286.0   \n",
       "2  PRV51004               0                   52170              310.0   \n",
       "\n",
       "   AdmitForDays  Inpatient  NoOfMonths_PartACov  NoOfMonths_PartBCov  \\\n",
       "0          30.0        5.0                  300                  300   \n",
       "1         382.0       62.0                 1560                 1567   \n",
       "2           0.0        0.0                 1768                 1782   \n",
       "\n",
       "   ChronicCond_Alzheimer  ChronicCond_Heartfailure  ...  \\\n",
       "0                     15                        19  ...   \n",
       "1                     56                        80  ...   \n",
       "2                     64                        88  ...   \n",
       "\n",
       "   Claims_by_ProviderBeneIDAttendingPhysicianClmProcedureCode_1_Cnt  \\\n",
       "0                                                2.0                  \n",
       "1                                               39.0                  \n",
       "2                                                0.0                  \n",
       "\n",
       "   Claims_by_ProviderBeneIDAttendingPhysicianClmDiagnosisCode_1_Cnt  \\\n",
       "0                                               24.0                  \n",
       "1                                              132.0                  \n",
       "2                                              143.0                  \n",
       "\n",
       "   Claims_by_ProviderBeneIDOperatingPhysician_Cnt  \\\n",
       "0                                             5.0   \n",
       "1                                            45.0   \n",
       "2                                            27.0   \n",
       "\n",
       "   Claims_by_ProviderBeneIDClmProcedureCode_1_Cnt  \\\n",
       "0                                             2.0   \n",
       "1                                            39.0   \n",
       "2                                             0.0   \n",
       "\n",
       "   Claims_by_ProviderBeneIDClmDiagnosisCode_1_Cnt  \\\n",
       "0                                            24.0   \n",
       "1                                           132.0   \n",
       "2                                           143.0   \n",
       "\n",
       "   Claims_by_ProviderBeneIDClmDiagnosisCode_1ClmProcedureCode_1_Cnt  Gender_2  \\\n",
       "0                                                2.0                     16.0   \n",
       "1                                               39.0                     78.0   \n",
       "2                                                0.0                    103.0   \n",
       "\n",
       "   Race_2  Race_3  Race_5  \n",
       "0     4.0     0.0     0.0  \n",
       "1    24.0     0.0     1.0  \n",
       "2    24.0     5.0     0.0  \n",
       "\n",
       "[3 rows x 222 columns]"
      ]
     },
     "execution_count": 60,
     "metadata": {},
     "output_type": "execute_result"
    }
   ],
   "source": [
    "Train_category_removed_groupedbyProv_PF.head(3)"
   ]
  },
  {
   "cell_type": "markdown",
   "metadata": {},
   "source": [
    "## H2O Implemetation"
   ]
  },
  {
   "cell_type": "code",
   "execution_count": 61,
   "metadata": {},
   "outputs": [
    {
     "name": "stdout",
     "output_type": "stream",
     "text": [
      "Checking whether there is an H2O instance running at http://localhost:54321 ..... not found.\n",
      "Attempting to start a local H2O server...\n",
      "  Java Version: java version \"11.0.1\" 2018-10-16 LTS; Java(TM) SE Runtime Environment 18.9 (build 11.0.1+13-LTS); Java HotSpot(TM) 64-Bit Server VM 18.9 (build 11.0.1+13-LTS, mixed mode)\n",
      "  Starting server from /Users/ramesh/opt/anaconda3/lib/python3.7/site-packages/h2o/backend/bin/h2o.jar\n",
      "  Ice root: /var/folders/2w/cxdktjs13vb8mn_8m4b7bfbr0000gp/T/tmpfhvvcnzi\n",
      "  JVM stdout: /var/folders/2w/cxdktjs13vb8mn_8m4b7bfbr0000gp/T/tmpfhvvcnzi/h2o_ramesh_started_from_python.out\n",
      "  JVM stderr: /var/folders/2w/cxdktjs13vb8mn_8m4b7bfbr0000gp/T/tmpfhvvcnzi/h2o_ramesh_started_from_python.err\n",
      "  Server is running at http://127.0.0.1:54321\n",
      "Connecting to H2O server at http://127.0.0.1:54321 ... successful.\n"
     ]
    },
    {
     "data": {
      "text/html": [
       "<div style=\"overflow:auto\"><table style=\"width:50%\"><tr><td>H2O_cluster_uptime:</td>\n",
       "<td>02 secs</td></tr>\n",
       "<tr><td>H2O_cluster_timezone:</td>\n",
       "<td>America/New_York</td></tr>\n",
       "<tr><td>H2O_data_parsing_timezone:</td>\n",
       "<td>UTC</td></tr>\n",
       "<tr><td>H2O_cluster_version:</td>\n",
       "<td>3.30.0.1</td></tr>\n",
       "<tr><td>H2O_cluster_version_age:</td>\n",
       "<td>22 days </td></tr>\n",
       "<tr><td>H2O_cluster_name:</td>\n",
       "<td>H2O_from_python_ramesh_209al2</td></tr>\n",
       "<tr><td>H2O_cluster_total_nodes:</td>\n",
       "<td>1</td></tr>\n",
       "<tr><td>H2O_cluster_free_memory:</td>\n",
       "<td>2 Gb</td></tr>\n",
       "<tr><td>H2O_cluster_total_cores:</td>\n",
       "<td>4</td></tr>\n",
       "<tr><td>H2O_cluster_allowed_cores:</td>\n",
       "<td>4</td></tr>\n",
       "<tr><td>H2O_cluster_status:</td>\n",
       "<td>accepting new members, healthy</td></tr>\n",
       "<tr><td>H2O_connection_url:</td>\n",
       "<td>http://127.0.0.1:54321</td></tr>\n",
       "<tr><td>H2O_connection_proxy:</td>\n",
       "<td>{\"http\": null, \"https\": null}</td></tr>\n",
       "<tr><td>H2O_internal_security:</td>\n",
       "<td>False</td></tr>\n",
       "<tr><td>H2O_API_Extensions:</td>\n",
       "<td>Amazon S3, XGBoost, Algos, AutoML, Core V3, TargetEncoder, Core V4</td></tr>\n",
       "<tr><td>Python_version:</td>\n",
       "<td>3.7.6 final</td></tr></table></div>"
      ],
      "text/plain": [
       "--------------------------  ------------------------------------------------------------------\n",
       "H2O_cluster_uptime:         02 secs\n",
       "H2O_cluster_timezone:       America/New_York\n",
       "H2O_data_parsing_timezone:  UTC\n",
       "H2O_cluster_version:        3.30.0.1\n",
       "H2O_cluster_version_age:    22 days\n",
       "H2O_cluster_name:           H2O_from_python_ramesh_209al2\n",
       "H2O_cluster_total_nodes:    1\n",
       "H2O_cluster_free_memory:    2 Gb\n",
       "H2O_cluster_total_cores:    4\n",
       "H2O_cluster_allowed_cores:  4\n",
       "H2O_cluster_status:         accepting new members, healthy\n",
       "H2O_connection_url:         http://127.0.0.1:54321\n",
       "H2O_connection_proxy:       {\"http\": null, \"https\": null}\n",
       "H2O_internal_security:      False\n",
       "H2O_API_Extensions:         Amazon S3, XGBoost, Algos, AutoML, Core V3, TargetEncoder, Core V4\n",
       "Python_version:             3.7.6 final\n",
       "--------------------------  ------------------------------------------------------------------"
      ]
     },
     "metadata": {},
     "output_type": "display_data"
    }
   ],
   "source": [
    "    import h2o\n",
    "    from IPython import get_ipython\n",
    "    import jupyter\n",
    "    import matplotlib.pyplot as plt\n",
    "    from pylab import rcParams\n",
    "\n",
    "    import os\n",
    "    from h2o.estimators.deeplearning import H2OAutoEncoderEstimator, H2ODeepLearningEstimator\n",
    "\n",
    "    h2o.init(max_mem_size = 2) # initializing h2o server\n",
    "    h2o.remove_all()"
   ]
  },
  {
   "cell_type": "code",
   "execution_count": 62,
   "metadata": {},
   "outputs": [],
   "source": [
    "claims_data_by_provider=Train_category_removed_groupedbyProv_PF.drop(axis=1,columns=['Provider'])"
   ]
  },
  {
   "cell_type": "code",
   "execution_count": 63,
   "metadata": {},
   "outputs": [
    {
     "name": "stdout",
     "output_type": "stream",
     "text": [
      "Parse progress: |█████████████████████████████████████████████████████████| 100%\n"
     ]
    }
   ],
   "source": [
    "# Turns python pandas frame into an H2OFrame\n",
    "Provider_Data_h2o  = h2o.H2OFrame(claims_data_by_provider)"
   ]
  },
  {
   "cell_type": "code",
   "execution_count": 64,
   "metadata": {},
   "outputs": [
    {
     "name": "stdout",
     "output_type": "stream",
     "text": [
      "(4333, 221)\n",
      "(1077, 221)\n"
     ]
    }
   ],
   "source": [
    "# 80% for the training set and 20% for the testing set\n",
    "train, test = Provider_Data_h2o.split_frame([0.8])\n",
    "print(train.shape)\n",
    "print(test.shape)"
   ]
  },
  {
   "cell_type": "code",
   "execution_count": 65,
   "metadata": {},
   "outputs": [
    {
     "data": {
      "text/plain": [
       "(3917, 220)"
      ]
     },
     "execution_count": 65,
     "metadata": {},
     "output_type": "execute_result"
    }
   ],
   "source": [
    "train_df = train.as_data_frame()\n",
    "test_df = test.as_data_frame()\n",
    "train_df = train_df[train_df['PotentialFraud'] == 0]\n",
    "train_df = train_df.drop(['PotentialFraud'], axis=1)\n",
    "Y_test_df = test_df['PotentialFraud']\n",
    "test_df = test_df.drop(['PotentialFraud'], axis=1)\n",
    "train_df.shape"
   ]
  },
  {
   "cell_type": "code",
   "execution_count": 66,
   "metadata": {},
   "outputs": [
    {
     "name": "stdout",
     "output_type": "stream",
     "text": [
      "Parse progress: |█████████████████████████████████████████████████████████| 100%\n",
      "Parse progress: |█████████████████████████████████████████████████████████| 100%\n"
     ]
    }
   ],
   "source": [
    "train_h2o = h2o.H2OFrame(train_df) # converting to h2o frame\n",
    "test_h2o = h2o.H2OFrame(test_df)\n",
    "x = train_h2o.columns"
   ]
  },
  {
   "cell_type": "code",
   "execution_count": 67,
   "metadata": {},
   "outputs": [
    {
     "name": "stdout",
     "output_type": "stream",
     "text": [
      "deeplearning Model Build progress: |██████████████████████████████████████| 100%\n"
     ]
    }
   ],
   "source": [
    "    anomaly_model = H2ODeepLearningEstimator(activation = \"Tanh\",\n",
    "                                   hidden = [30,10,10,30],\n",
    "                                   epochs = 100,\n",
    "                                   standardize = True,\n",
    "                                    stopping_metric = 'MSE', # MSE for autoencoders\n",
    "                                    loss = 'automatic',\n",
    "                                    train_samples_per_iteration = 32,\n",
    "                                    shuffle_training_data = True,     \n",
    "                                   autoencoder = True,\n",
    "                                   l1 = 10e-5)\n",
    "    anomaly_model.train(x=x, training_frame = train_h2o)"
   ]
  },
  {
   "cell_type": "code",
   "execution_count": 68,
   "metadata": {},
   "outputs": [
    {
     "data": {
      "text/html": [
       "<div>\n",
       "<style scoped>\n",
       "    .dataframe tbody tr th:only-of-type {\n",
       "        vertical-align: middle;\n",
       "    }\n",
       "\n",
       "    .dataframe tbody tr th {\n",
       "        vertical-align: top;\n",
       "    }\n",
       "\n",
       "    .dataframe thead th {\n",
       "        text-align: right;\n",
       "    }\n",
       "</style>\n",
       "<table border=\"1\" class=\"dataframe\">\n",
       "  <thead>\n",
       "    <tr style=\"text-align: right;\">\n",
       "      <th></th>\n",
       "      <th>variable</th>\n",
       "      <th>relative_importance</th>\n",
       "      <th>scaled_importance</th>\n",
       "      <th>percentage</th>\n",
       "    </tr>\n",
       "  </thead>\n",
       "  <tbody>\n",
       "    <tr>\n",
       "      <th>0</th>\n",
       "      <td>perClmProcedureCode_2Avg_OPAnnualDeductibleAmt</td>\n",
       "      <td>1.000000</td>\n",
       "      <td>1.000000</td>\n",
       "      <td>0.015833</td>\n",
       "    </tr>\n",
       "    <tr>\n",
       "      <th>1</th>\n",
       "      <td>perClmProcedureCode_3Avg_DeductibleAmtPaid</td>\n",
       "      <td>0.900288</td>\n",
       "      <td>0.900288</td>\n",
       "      <td>0.014254</td>\n",
       "    </tr>\n",
       "    <tr>\n",
       "      <th>2</th>\n",
       "      <td>perClmDiagnosisCode_10Avg_AdmitForDays</td>\n",
       "      <td>0.890308</td>\n",
       "      <td>0.890308</td>\n",
       "      <td>0.014096</td>\n",
       "    </tr>\n",
       "    <tr>\n",
       "      <th>3</th>\n",
       "      <td>perClmDiagnosisCode_10Avg_IPAnnualDeductibleAmt</td>\n",
       "      <td>0.886538</td>\n",
       "      <td>0.886538</td>\n",
       "      <td>0.014037</td>\n",
       "    </tr>\n",
       "    <tr>\n",
       "      <th>4</th>\n",
       "      <td>perClmDiagnosisCode_10Avg_DeductibleAmtPaid</td>\n",
       "      <td>0.881450</td>\n",
       "      <td>0.881450</td>\n",
       "      <td>0.013956</td>\n",
       "    </tr>\n",
       "    <tr>\n",
       "      <th>...</th>\n",
       "      <td>...</td>\n",
       "      <td>...</td>\n",
       "      <td>...</td>\n",
       "      <td>...</td>\n",
       "    </tr>\n",
       "    <tr>\n",
       "      <th>208</th>\n",
       "      <td>perClmProcedureCode_5Avg_AdmitForDays</td>\n",
       "      <td>0.001140</td>\n",
       "      <td>0.001140</td>\n",
       "      <td>0.000018</td>\n",
       "    </tr>\n",
       "    <tr>\n",
       "      <th>209</th>\n",
       "      <td>Claims_by_ProviderClmProcedureCode_5_Cnt</td>\n",
       "      <td>0.001137</td>\n",
       "      <td>0.001137</td>\n",
       "      <td>0.000018</td>\n",
       "    </tr>\n",
       "    <tr>\n",
       "      <th>210</th>\n",
       "      <td>perClmProcedureCode_5Avg_InscClaimAmtReimbursed</td>\n",
       "      <td>0.001033</td>\n",
       "      <td>0.001033</td>\n",
       "      <td>0.000016</td>\n",
       "    </tr>\n",
       "    <tr>\n",
       "      <th>211</th>\n",
       "      <td>perClmProcedureCode_5Avg_DeductibleAmtPaid</td>\n",
       "      <td>0.001022</td>\n",
       "      <td>0.001022</td>\n",
       "      <td>0.000016</td>\n",
       "    </tr>\n",
       "    <tr>\n",
       "      <th>212</th>\n",
       "      <td>perClmProcedureCode_5Avg_IPAnnualReimbursementAmt</td>\n",
       "      <td>0.000950</td>\n",
       "      <td>0.000950</td>\n",
       "      <td>0.000015</td>\n",
       "    </tr>\n",
       "  </tbody>\n",
       "</table>\n",
       "<p>213 rows × 4 columns</p>\n",
       "</div>"
      ],
      "text/plain": [
       "                                              variable  relative_importance  \\\n",
       "0       perClmProcedureCode_2Avg_OPAnnualDeductibleAmt             1.000000   \n",
       "1           perClmProcedureCode_3Avg_DeductibleAmtPaid             0.900288   \n",
       "2               perClmDiagnosisCode_10Avg_AdmitForDays             0.890308   \n",
       "3      perClmDiagnosisCode_10Avg_IPAnnualDeductibleAmt             0.886538   \n",
       "4          perClmDiagnosisCode_10Avg_DeductibleAmtPaid             0.881450   \n",
       "..                                                 ...                  ...   \n",
       "208              perClmProcedureCode_5Avg_AdmitForDays             0.001140   \n",
       "209           Claims_by_ProviderClmProcedureCode_5_Cnt             0.001137   \n",
       "210    perClmProcedureCode_5Avg_InscClaimAmtReimbursed             0.001033   \n",
       "211         perClmProcedureCode_5Avg_DeductibleAmtPaid             0.001022   \n",
       "212  perClmProcedureCode_5Avg_IPAnnualReimbursementAmt             0.000950   \n",
       "\n",
       "     scaled_importance  percentage  \n",
       "0             1.000000    0.015833  \n",
       "1             0.900288    0.014254  \n",
       "2             0.890308    0.014096  \n",
       "3             0.886538    0.014037  \n",
       "4             0.881450    0.013956  \n",
       "..                 ...         ...  \n",
       "208           0.001140    0.000018  \n",
       "209           0.001137    0.000018  \n",
       "210           0.001033    0.000016  \n",
       "211           0.001022    0.000016  \n",
       "212           0.000950    0.000015  \n",
       "\n",
       "[213 rows x 4 columns]"
      ]
     },
     "execution_count": 68,
     "metadata": {},
     "output_type": "execute_result"
    }
   ],
   "source": [
    "anomaly_model._model_json['output']['variable_importances'].as_data_frame()"
   ]
  },
  {
   "cell_type": "code",
   "execution_count": 69,
   "metadata": {},
   "outputs": [
    {
     "data": {
      "image/png": "[encoded data removed]",
      "text/plain": [
       "<Figure size 1008x576 with 1 Axes>"
      ]
     },
     "metadata": {
      "needs_background": "light"
     },
     "output_type": "display_data"
    }
   ],
   "source": [
    "# plotting the variable importance\n",
    "rcParams['figure.figsize'] = 14, 8\n",
    "#plt.rcdefaults()\n",
    "fig, ax = plt.subplots()\n",
    "\n",
    "variables = anomaly_model._model_json['output']['variable_importances']['variable']\n",
    "var = variables[0:15]\n",
    "y_pos = np.arange(len(var))\n",
    "\n",
    "scaled_importance = anomaly_model._model_json['output']['variable_importances']['scaled_importance']\n",
    "sc = scaled_importance[0:15]\n",
    "\n",
    "ax.barh(y_pos, sc, align='center', color='green', ecolor='black')\n",
    "ax.set_yticks(y_pos)\n",
    "ax.set_yticklabels(variables)\n",
    "ax.invert_yaxis()\n",
    "ax.set_xlabel('Scaled Importance')\n",
    "ax.set_title('Variable Importance')\n",
    "plt.show()"
   ]
  },
  {
   "cell_type": "code",
   "execution_count": 70,
   "metadata": {},
   "outputs": [
    {
     "data": {
      "text/plain": [
       "Text(0.5, 0, 'epoch')"
      ]
     },
     "execution_count": 70,
     "metadata": {},
     "output_type": "execute_result"
    },
    {
     "data": {
      "image/png": "[encoded data removed]",
      "text/plain": [
       "<Figure size 1008x576 with 1 Axes>"
      ]
     },
     "metadata": {
      "needs_background": "light"
     },
     "output_type": "display_data"
    }
   ],
   "source": [
    "# plotting the loss\n",
    "scoring_history = anomaly_model.score_history()\n",
    "%matplotlib inline\n",
    "rcParams['figure.figsize'] = 14, 8\n",
    "plt.plot(scoring_history['training_mse'])\n",
    "#plt.plot(scoring_history['validation_mse'])\n",
    "plt.title('model loss')\n",
    "plt.ylabel('loss')\n",
    "plt.xlabel('epoch')"
   ]
  },
  {
   "cell_type": "markdown",
   "metadata": {},
   "source": [
    "**Evaluating the Testing set**\n",
    "\n",
    "Testing set has both normal and fraud transactions in it. From this training method, The model will learn to identify the pattern of the input data. If an anomalous test point does not match the learned pattern, the autoencoder will likely have a high error rate in reconstructing this data, indicating anomalous data. So that we can identify the anomalies of the data. To calculate the error, it uses Mean Squared Error(MSE)"
   ]
  },
  {
   "cell_type": "code",
   "execution_count": 71,
   "metadata": {},
   "outputs": [
    {
     "data": {
      "image/png": "[encoded data removed]",
      "text/plain": [
       "<Figure size 1008x576 with 1 Axes>"
      ]
     },
     "metadata": {
      "needs_background": "light"
     },
     "output_type": "display_data"
    }
   ],
   "source": [
    "test_rec_error = anomaly_model.anomaly(test_h2o) \n",
    "# anomaly is a H2O function which calculates the error for the dataset\n",
    "test_rec_error_df = test_rec_error.as_data_frame() # converting to pandas dataframe\n",
    "\n",
    "# plotting the testing dataset against the error\n",
    "test_rec_error_df['id']=test_rec_error_df.index\n",
    "rcParams['figure.figsize'] = 14, 8\n",
    "test_rec_error_df.plot(kind=\"scatter\", x='id', y=\"Reconstruction.MSE\")\n",
    "plt.show()"
   ]
  },
  {
   "cell_type": "code",
   "execution_count": 72,
   "metadata": {},
   "outputs": [
    {
     "name": "stdout",
     "output_type": "stream",
     "text": [
      "deeplearning prediction progress: |███████████████████████████████████████| 100%\n"
     ]
    },
    {
     "data": {
      "text/html": [
       "<div>\n",
       "<style scoped>\n",
       "    .dataframe tbody tr th:only-of-type {\n",
       "        vertical-align: middle;\n",
       "    }\n",
       "\n",
       "    .dataframe tbody tr th {\n",
       "        vertical-align: top;\n",
       "    }\n",
       "\n",
       "    .dataframe thead th {\n",
       "        text-align: right;\n",
       "    }\n",
       "</style>\n",
       "<table border=\"1\" class=\"dataframe\">\n",
       "  <thead>\n",
       "    <tr style=\"text-align: right;\">\n",
       "      <th></th>\n",
       "      <th>reconstruction_error</th>\n",
       "      <th>true_class</th>\n",
       "    </tr>\n",
       "  </thead>\n",
       "  <tbody>\n",
       "    <tr>\n",
       "      <th>count</th>\n",
       "      <td>1077.000000</td>\n",
       "      <td>1077.000000</td>\n",
       "    </tr>\n",
       "    <tr>\n",
       "      <th>mean</th>\n",
       "      <td>0.015079</td>\n",
       "      <td>0.083565</td>\n",
       "    </tr>\n",
       "    <tr>\n",
       "      <th>std</th>\n",
       "      <td>0.310764</td>\n",
       "      <td>0.276864</td>\n",
       "    </tr>\n",
       "    <tr>\n",
       "      <th>min</th>\n",
       "      <td>0.000011</td>\n",
       "      <td>0.000000</td>\n",
       "    </tr>\n",
       "    <tr>\n",
       "      <th>25%</th>\n",
       "      <td>0.000022</td>\n",
       "      <td>0.000000</td>\n",
       "    </tr>\n",
       "    <tr>\n",
       "      <th>50%</th>\n",
       "      <td>0.000083</td>\n",
       "      <td>0.000000</td>\n",
       "    </tr>\n",
       "    <tr>\n",
       "      <th>75%</th>\n",
       "      <td>0.000328</td>\n",
       "      <td>0.000000</td>\n",
       "    </tr>\n",
       "    <tr>\n",
       "      <th>max</th>\n",
       "      <td>9.872896</td>\n",
       "      <td>1.000000</td>\n",
       "    </tr>\n",
       "  </tbody>\n",
       "</table>\n",
       "</div>"
      ],
      "text/plain": [
       "       reconstruction_error   true_class\n",
       "count           1077.000000  1077.000000\n",
       "mean               0.015079     0.083565\n",
       "std                0.310764     0.276864\n",
       "min                0.000011     0.000000\n",
       "25%                0.000022     0.000000\n",
       "50%                0.000083     0.000000\n",
       "75%                0.000328     0.000000\n",
       "max                9.872896     1.000000"
      ]
     },
     "execution_count": 72,
     "metadata": {},
     "output_type": "execute_result"
    }
   ],
   "source": [
    "# predicting the class for the testing dataset\n",
    "predictions = anomaly_model.predict(test_h2o)\n",
    "error_df = pd.DataFrame({'reconstruction_error': test_rec_error_df['Reconstruction.MSE'],'true_class': Y_test_df})\n",
    "error_df.describe()"
   ]
  },
  {
   "cell_type": "markdown",
   "metadata": {},
   "source": [
    "## ROC Curve"
   ]
  },
  {
   "cell_type": "code",
   "execution_count": 73,
   "metadata": {},
   "outputs": [
    {
     "data": {
      "image/png": "[encoded data removed]",
      "text/plain": [
       "<Figure size 1008x576 with 1 Axes>"
      ]
     },
     "metadata": {
      "needs_background": "light"
     },
     "output_type": "display_data"
    }
   ],
   "source": [
    "    from sklearn.metrics import (confusion_matrix, precision_recall_curve, auc,\n",
    "                                 roc_curve, recall_score, classification_report, f1_score,\n",
    "                                 precision_recall_fscore_support)\n",
    "    fpr, tpr, thresholds = roc_curve(error_df.true_class, error_df.reconstruction_error)\n",
    "    roc_auc = auc(fpr, tpr)\n",
    "\n",
    "    plt.title('Receiver Operating Characteristic')\n",
    "    plt.plot(fpr, tpr, label='AUC = %0.4f'% roc_auc)\n",
    "    plt.legend(loc='lower right')\n",
    "    plt.plot([0,1],[0,1],'r--')\n",
    "    plt.xlim([-0.001, 1])\n",
    "    plt.ylim([0, 1.001])\n",
    "    plt.ylabel('True Positive Rate')\n",
    "    plt.xlabel('False Positive Rate')\n",
    "    plt.show();"
   ]
  },
  {
   "cell_type": "markdown",
   "metadata": {},
   "source": [
    "### Precision and Recall\n",
    "Since the data is highly unbalanced, it cannot be measured only by using accuracy.\n",
    "Precision vs Recall was chosen as the matrix for the classification task.\n",
    "\n",
    "**Precision**: Measuring the relevancy of obtained results. \n",
    "[ True positives / (True positives + False positives)]\n",
    "\n",
    "**Recall**: Measuring how many relevant results are returned.\n",
    "[ True positives / (True positives + False negatives)]\n",
    "\n",
    "**True Positives** - Number of actual frauds predicted as frauds\n",
    "\n",
    "**False Positives** - Number of non-frauds predicted as frauds\n",
    "\n",
    "**False Negatives** - Number of frauds predicted as non-frauds."
   ]
  },
  {
   "cell_type": "code",
   "execution_count": 74,
   "metadata": {},
   "outputs": [
    {
     "data": {
      "image/png": "[encoded data removed]",
      "text/plain": [
       "<Figure size 1008x576 with 1 Axes>"
      ]
     },
     "metadata": {
      "needs_background": "light"
     },
     "output_type": "display_data"
    }
   ],
   "source": [
    "    precision, recall, th = precision_recall_curve(error_df.true_class, error_df.reconstruction_error)\n",
    "    plt.plot(recall, precision, 'b', label='Precision-Recall curve')\n",
    "    plt.title('Recall vs Precision')\n",
    "    plt.xlabel('Recall')\n",
    "    plt.ylabel('Precision')\n",
    "    plt.show()"
   ]
  },
  {
   "cell_type": "markdown",
   "metadata": {},
   "source": [
    "We need to find a better threshold that can seperate the anomalies from normals. This can be done by getting the intersection of the **Precision/Recall vs Threshold** graph"
   ]
  },
  {
   "cell_type": "code",
   "execution_count": 75,
   "metadata": {},
   "outputs": [
    {
     "data": {
      "image/png": "[encoded data removed]",
      "text/plain": [
       "<Figure size 1008x576 with 1 Axes>"
      ]
     },
     "metadata": {
      "needs_background": "light"
     },
     "output_type": "display_data"
    }
   ],
   "source": [
    "    plt.plot(th, precision[1:], label=\"Precision\",linewidth=5)\n",
    "    plt.plot(th, recall[1:], label=\"Recall\",linewidth=5)\n",
    "    plt.title('Precision and recall for different threshold values')\n",
    "    plt.xlabel('Threshold')\n",
    "    plt.ylabel('Precision/Recall')\n",
    "    plt.xscale('log')\n",
    "    plt.legend()\n",
    "    plt.show()"
   ]
  },
  {
   "cell_type": "code",
   "execution_count": 76,
   "metadata": {},
   "outputs": [
    {
     "data": {
      "image/png": "[encoded data removed]",
      "text/plain": [
       "<Figure size 1008x576 with 1 Axes>"
      ]
     },
     "metadata": {
      "needs_background": "light"
     },
     "output_type": "display_data"
    }
   ],
   "source": [
    "    # plot the testing set with the threshold\n",
    "    threshold = 0.01\n",
    "    groups = error_df.groupby('true_class')\n",
    "    fig, ax = plt.subplots()\n",
    "\n",
    "    for name, group in groups:\n",
    "        ax.plot(group.index, group.reconstruction_error, marker='o', ms=3.5, linestyle='',\n",
    "                label= \"Fraud\" if name == 1 else \"Normal\")\n",
    "    ax.hlines(threshold, ax.get_xlim()[0], ax.get_xlim()[1], colors=\"r\", zorder=100, label='Threshold')\n",
    "    ax.legend()\n",
    "    plt.title(\"Reconstruction error for different classes\")\n",
    "    plt.ylabel(\"Reconstruction error\")\n",
    "    plt.xlabel(\"Data point index\")\n",
    "    plt.show();"
   ]
  },
  {
   "cell_type": "markdown",
   "metadata": {},
   "source": [
    "## Confusion Matrix"
   ]
  },
  {
   "cell_type": "code",
   "execution_count": 77,
   "metadata": {},
   "outputs": [
    {
     "data": {
      "image/png": "[encoded data removed]",
      "text/plain": [
       "<Figure size 864x864 with 2 Axes>"
      ]
     },
     "metadata": {
      "needs_background": "light"
     },
     "output_type": "display_data"
    }
   ],
   "source": [
    "    import seaborn as sns\n",
    "    LABELS = ['Normal', 'Fraud']\n",
    "    y_pred = [1 if e > threshold else 0 for e in error_df.reconstruction_error.values]\n",
    "    conf_matrix = confusion_matrix(error_df.true_class, y_pred)\n",
    "    plt.figure(figsize=(12, 12))\n",
    "    sns.heatmap(conf_matrix, xticklabels=LABELS, yticklabels=LABELS, annot=True, fmt=\"d\");\n",
    "    plt.title(\"Confusion matrix\")\n",
    "    plt.ylabel('True class')\n",
    "    plt.xlabel('Predicted class')\n",
    "    plt.show()"
   ]
  },
  {
   "cell_type": "markdown",
   "metadata": {},
   "source": [
    "## Classification Report"
   ]
  },
  {
   "cell_type": "code",
   "execution_count": 78,
   "metadata": {},
   "outputs": [
    {
     "name": "stdout",
     "output_type": "stream",
     "text": [
      "              precision    recall  f1-score   support\n",
      "\n",
      "           0       0.95      0.99      0.97       987\n",
      "           1       0.87      0.38      0.53        90\n",
      "\n",
      "    accuracy                           0.94      1077\n",
      "   macro avg       0.91      0.69      0.75      1077\n",
      "weighted avg       0.94      0.94      0.93      1077\n",
      "\n"
     ]
    }
   ],
   "source": [
    "csr = classification_report(error_df.true_class, y_pred)\n",
    "print(csr)"
   ]
  },
  {
   "cell_type": "code",
   "execution_count": null,
   "metadata": {},
   "outputs": [],
   "source": []
  },
  {
   "cell_type": "code",
   "execution_count": null,
   "metadata": {},
   "outputs": [],
   "source": []
  }
 ],
 "metadata": {
  "kernelspec": {
   "display_name": "Python 3",
   "language": "python",
   "name": "python3"
  },
  "language_info": {
   "codemirror_mode": {
    "name": "ipython",
    "version": 3
   },
   "file_extension": ".py",
   "mimetype": "text/x-python",
   "name": "python",
   "nbconvert_exporter": "python",
   "pygments_lexer": "ipython3",
   "version": "3.7.6"
  }
 },
 "nbformat": 4,
 "nbformat_minor": 4
}
